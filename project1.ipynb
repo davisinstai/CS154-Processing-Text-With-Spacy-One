{
 "cells": [
  {
   "cell_type": "markdown",
   "metadata": {
    "editable": true,
    "slideshow": {
     "slide_type": "slide"
    },
    "tags": []
   },
   "source": [
    "# Project 1: Goals and Deliverables"
   ]
  },
  {
   "cell_type": "markdown",
   "metadata": {
    "editable": true,
    "slideshow": {
     "slide_type": "subslide"
    },
    "tags": []
   },
   "source": [
    "The goals of this assignment are:\n",
    "* To introduce you to tools commonly used by software developers and data scientists: Git and Github, Codespaces, and Jupyter notebooks.\n",
    "* To introduce you to doing NLP with python and documenting what you do with markdown."
   ]
  },
  {
   "cell_type": "markdown",
   "metadata": {
    "editable": true,
    "slideshow": {
     "slide_type": "subslide"
    },
    "tags": []
   },
   "source": [
    "Here are the steps you should do to successfully complete this project:\n",
    "1. From the repository homepage, make a new codespace.\n",
    "2. Complete this notebook and commit it to Github. Make sure to answer all questions, and to commit the notebook in a \"run\" state!\n",
    "3. Edit the README.md file. Provide your name, your class year and what you hope to get out of this course. Make sure to include the output from running first_nlp.py!\n",
    "4. Commit and push (sync) your code regularly. Your final commit prior to the deadline will be considered your submitted project."
   ]
  },
  {
   "cell_type": "markdown",
   "metadata": {
    "editable": true,
    "slideshow": {
     "slide_type": "subslide"
    },
    "tags": []
   },
   "source": [
    "For extra credit:\n",
    "* Create your profile README. Let the world know a little bit more about you! What are you interested in learning? What are you working on? What's your favorite hobby? Learn more about creating your profile README in the document, [\"Managing Your Profile README\"](https://docs.github.com/en/github/setting-up-and-managing-your-github-profile/managing-your-profile-readme). Make sure to tell us in your readme that you've done this extension, and to give us the link to your profile!\n",
    "* Go to your user dashboard and create a new repository. Experiment with the features within that repository to familiarize yourself with them.  Make sure to tell us in your readme that you've done this extension, and to give us the link to the repository!"
   ]
  },
  {
   "cell_type": "markdown",
   "metadata": {
    "editable": true,
    "slideshow": {
     "slide_type": "notes"
    },
    "tags": []
   },
   "source": [
    "# Sources"
   ]
  },
  {
   "cell_type": "markdown",
   "metadata": {
    "editable": true,
    "slideshow": {
     "slide_type": "notes"
    },
    "tags": []
   },
   "source": [
    "This notebook uses content from:\n",
    "* The [Git and Github starter assignment](https://docs.github.com/en/education/manage-coursework-with-github-classroom/teach-with-github-classroom/use-the-git-and-github-starter-assignment) from Github classroom\n",
    "* The [Constellate tutorials](https://www.constellate.org/tutorials/), created by [Nathan Kelber](http://nkelber.com) and Ted Lawless for [JSTOR Labs](https://labs.jstor.org/) under [Creative Commons CC BY License](https://creativecommons.org/licenses/by/4.0/)<br />"
   ]
  },
  {
   "cell_type": "markdown",
   "metadata": {
    "editable": true,
    "slideshow": {
     "slide_type": "slide"
    },
    "tags": []
   },
   "source": [
    "# Getting Started"
   ]
  },
  {
   "cell_type": "markdown",
   "metadata": {
    "editable": true,
    "slideshow": {
     "slide_type": "subslide"
    },
    "tags": []
   },
   "source": [
    "Go to https://github.com. Sign in.\n",
    "\n",
    "You will find your **repository** there for this project.\n",
    "\n",
    "Click on the \"Code\" button. Choose the tab \"Codespaces\". Click the \"+\" to make a new Codespace.\n",
    "\n",
    "Click on the notebook filename to open it (it ends with .ipynb).\n",
    "\n",
    "The first time you run it it will ask you to install python extensions and set the kernel type. We will walk through this in lab. "
   ]
  },
  {
   "cell_type": "markdown",
   "metadata": {
    "editable": true,
    "slideshow": {
     "slide_type": "subslide"
    },
    "tags": []
   },
   "source": [
    "**Be Sure To Save Your Work!!!**\n",
    "\n",
    "In Visual Studio, use the little blue dot on the left hand side to \"commit\" your work."
   ]
  },
  {
   "cell_type": "markdown",
   "metadata": {
    "editable": true,
    "slideshow": {
     "slide_type": ""
    },
    "tags": []
   },
   "source": [
    "# Getting Started with Jupyter Notebooks"
   ]
  },
  {
   "cell_type": "markdown",
   "metadata": {
    "editable": true,
    "slideshow": {
     "slide_type": ""
    },
    "tags": []
   },
   "source": [
    "## Introduction\n",
    "Welcome to your first Jupyter notebook! Jupyter notebooks are documents that contain both computer code (like Python) alongside explanatory images, figures, videos, and links. Most importantly, the code in a Jupyter notebook can be executed, modified, and deleted. As you explore this notebook, please feel free to modify the text, the code, and to generally play around with the environment. "
   ]
  },
  {
   "cell_type": "markdown",
   "metadata": {
    "editable": true,
    "slideshow": {
     "slide_type": ""
    },
    "tags": []
   },
   "source": [
    "### Cells\n",
    "\n",
    "Similar to the way an essay is composed of paragraphs, Jupyter notebooks are composed of cells. A cell is like a container for a particular kind of content. There are essentially two kinds of content in Jupyter notebooks:\n",
    "\n",
    "1. Markdown cells - These can contain text, images, video, and other kinds of explanatory content you might find on a regular website. This cell is a markdown cell.\n",
    "2. Code cells - These can contain code written in a variety of languages.\n",
    "\n",
    "A code cell can be distinguished from a markdown cell by the fact that in **JupyterLab** it contains a pair of brackets to its left, like so ``[ ]``."
   ]
  },
  {
   "cell_type": "code",
   "execution_count": null,
   "metadata": {
    "editable": true,
    "slideshow": {
     "slide_type": ""
    },
    "tags": []
   },
   "outputs": [],
   "source": [
    "# This is a code cell "
   ]
  },
  {
   "cell_type": "markdown",
   "metadata": {
    "editable": true,
    "slideshow": {
     "slide_type": ""
    },
    "tags": []
   },
   "source": [
    "### Comments in code cells\n",
    "\n",
    "A code cell can be executed to perform an action. The code cell above does not contain any *executable* content, only a text **comment**. We can tell the text in the code cell is a comment because it is prefixed by a ``#``. In Python, any time a line is prefaced by a ``#`` that line is a comment and will not be executed if the code is run."
   ]
  },
  {
   "cell_type": "markdown",
   "metadata": {},
   "source": [
    "### Creating a Cell\n",
    "\n",
    "To create a new cell, use the \"+ Code\" and \"+ Markdown\" menu items at the top.\n",
    "\n",
    "*Now try making a code cell!*"
   ]
  },
  {
   "cell_type": "markdown",
   "metadata": {},
   "source": [
    "### Deleting a Cell\n",
    "\n",
    "To delete a cell, click the trashcan icon next to the cell.\n",
    "\n",
    "*Now delete the code cell you made!*"
   ]
  },
  {
   "cell_type": "markdown",
   "metadata": {},
   "source": [
    "### Modifying a Cell\n",
    "\n",
    "The text in code cells can be quickly changed like a regular textbox. In order to change the content of a markdown cell, you need to expose the markdown content underneath by double-clicking the cell. This will reveal the plain text of the markdown that creates various elements like headings, links, images, etc. When you want the cell to render again, you can simply run it again by pushing the play button or pressing Ctrl + Enter (Windows) or shift + return (OS X) on your keyboard."
   ]
  },
  {
   "cell_type": "markdown",
   "metadata": {
    "editable": true,
    "slideshow": {
     "slide_type": ""
    },
    "tags": []
   },
   "source": [
    "### Your First Code\n",
    "\n",
    "Let's take the first part of the [Wikipedia page for Colby College](https://en.wikipedia.org/wiki/Colby_College):\n",
    "```Colby College is a private liberal arts college in Waterville, Maine. Founded in 1813 as the Maine Literary and Theological Institution, it was renamed Waterville College in 1821. The donations of Christian philanthropist Gardner Colby saw the institution renamed again to Colby University before settling on its current title, reflecting its liberal arts college curriculum, in 1899. Approximately 2,000 students from more than 60 countries are enrolled annually. The college offers 54 major fields of study and 30 minors.```\n",
    "\n",
    "We want to do some NLP on this text using python. Let's start by printing it! \n",
    "\n",
    "We will use the ``print()`` function. This function simply prints out whatever is inside the parentheses (). We put quotation marks around the text because we want the text to be read as a python ``string``. Write this code into the code cell below.\n",
    "\n",
    "```print(\"Colby College is a private liberal arts college in Waterville, Maine. Founded in 1813 as the Maine Literary and Theological Institution, it was renamed Waterville College in 1821. The donations of Christian philanthropist Gardner Colby saw the institution renamed again to Colby University before settling on its current title, reflecting its liberal arts college curriculum, in 1899. Approximately 2,000 students from more than 60 countries are enrolled annually. The college offers 54 major fields of study and 30 minors.\")```\n",
    "\n",
    "To execute the code, click the code cell you wish to run and press Ctrl + Enter (Windows) or shift + return (OS X) on your keyboard."
   ]
  },
  {
   "cell_type": "code",
   "execution_count": null,
   "metadata": {
    "editable": true,
    "execution": {
     "iopub.execute_input": "2023-05-31T18:28:28.200090Z",
     "iopub.status.busy": "2023-05-31T18:28:28.199782Z",
     "iopub.status.idle": "2023-05-31T18:28:28.360333Z",
     "shell.execute_reply": "2023-05-31T18:28:28.359683Z",
     "shell.execute_reply.started": "2023-05-31T18:28:28.200067Z"
    },
    "slideshow": {
     "slide_type": ""
    },
    "tags": []
   },
   "outputs": [],
   "source": []
  },
  {
   "cell_type": "markdown",
   "metadata": {},
   "source": [
    "#### Questions\n",
    "\n",
    "1. *Does it matter if you use single or double quotes?*\n",
    "2. *Can you also insert a comment into the code cell?*\n",
    "3. *Can you write code and a comment on a single line? Which must come first?*"
   ]
  },
  {
   "cell_type": "markdown",
   "metadata": {},
   "source": [
    "After your code runs, you'll receive any output and a number will appear in the pair of brackets `[ ]` to the left of the code cell to show the order the cell was run. If your code is complicated or takes some time to execute, an asterisk * will be displayed in the pair of brackets `[*]` while the code executes. \n",
    "\n",
    "Execute the code cell below which:\n",
    "\n",
    "1. Prints \"Waiting 5 seconds...\"\n",
    "2. Waits 5 seconds\n",
    "3. Prints \"Done\"\n",
    "\n",
    "As the program is running, watch the pair of brackets and you will see the code is running `[*]`."
   ]
  },
  {
   "cell_type": "code",
   "execution_count": null,
   "metadata": {
    "execution": {
     "iopub.execute_input": "2023-05-31T18:29:30.198425Z",
     "iopub.status.busy": "2023-05-31T18:29:30.198115Z",
     "iopub.status.idle": "2023-05-31T18:29:35.205015Z",
     "shell.execute_reply": "2023-05-31T18:29:35.204263Z",
     "shell.execute_reply.started": "2023-05-31T18:29:30.198402Z"
    }
   },
   "outputs": [],
   "source": [
    "print('Waiting 5 seconds...')\n",
    "import time\n",
    "time.sleep(5)\n",
    "print('Done')"
   ]
  },
  {
   "cell_type": "markdown",
   "metadata": {},
   "source": [
    "If you missed the asterisk, you can run the code cell as many times as you like. Notice that each time you run a code cell the number increases in the pair of brackets `[ ]`. This keeps track of the order cells were run. While we will always run code in order from top to bottom, keep in mind that code cells can be run in any order. If you run a code cell at the bottom of a notebook that depends on the output of a code cell at the top, you will probably get an error. When you get an error, it's a good idea to check if you missed a code cell earlier that needed to be run first."
   ]
  },
  {
   "cell_type": "markdown",
   "metadata": {},
   "source": [
    "## What is Markdown?\n",
    "\n",
    "If you are familiar with HTML, markdown is a simplified way to write HTML elements. Basically it allows you to mark out where headings, italics, bold, and other kinds of basic formatting go. In terms of styling, markdown is very minimalist. If you would like to include an element that is not included in markdown in your notebook, you can also use HTML and CSS in your markdown cells.\n",
    "\n",
    "*Now take a look at the markdown in the cell below!*"
   ]
  },
  {
   "cell_type": "markdown",
   "metadata": {},
   "source": [
    "### Heading\n",
    "\n",
    "Here is some *emphasis* and **bold**.\n",
    "\n",
    "* Item one\n",
    "* Item two\n",
    "* Item three\n",
    "\n",
    "1. item one\n",
    "2. item two\n",
    "3. item three\n",
    "\n",
    "This is a [link to a Markdown cheatsheet](https://enterprise.github.com/downloads/en/markdown-cheatsheet.pdf)."
   ]
  },
  {
   "cell_type": "markdown",
   "metadata": {},
   "source": [
    "### Questions\n",
    "\n",
    "4. *What is the markdown for inserting an image? Use it to insert an image here:* \n",
    "5. *What is the markdown for underlined text? Use it to underline the word 'underlined' here:* "
   ]
  },
  {
   "cell_type": "markdown",
   "metadata": {
    "editable": true,
    "slideshow": {
     "slide_type": ""
    },
    "tags": []
   },
   "source": [
    "# Getting Started with Git and GitHub"
   ]
  },
  {
   "cell_type": "markdown",
   "metadata": {},
   "source": [
    "Git is a **distributed Version Control System (VCS)**, which means it is a useful tool for easily tracking changes to your code, collaborating, and sharing. With Git you can track the changes you make to your project so you always have a record of what you’ve worked on. It also makes working with others easier! \n",
    "\n",
    "GitHub is a way to use the same power of Git all online with an easy-to-use interface. It is used across the software world and beyond to collaborate and maintain the history of projects."
   ]
  },
  {
   "cell_type": "markdown",
   "metadata": {
    "editable": true,
    "slideshow": {
     "slide_type": ""
    },
    "tags": []
   },
   "source": [
    "## Understanding the GitHub flow \n",
    "\n",
    "The GitHub flow is a lightweight workflow that allows you to experiment and collaborate on your projects easily, without the risk of losing your previous work.\n",
    "\n",
    "### Repositories\n",
    "\n",
    "A **repository** is where your project work happens. It contains all of your project’s files and revision history.  \n",
    "\n",
    "### Cloning \n",
    "\n",
    "When a repository is created with GitHub, it’s stored remotely in the cloud. You can **clone** a repository into a **codespace** (a virtual machine in the cloud) and then modify it. You can also clone a repository to your own computer and then use Git to sync the two.\n",
    "\n",
    "To learn more about cloning, read [\"Cloning a Repository\"](https://docs.github.com/en/github/creating-cloning-and-archiving-repositories/cloning-a-repository). \n",
    "\n",
    "### Committing and pushing\n",
    "\n",
    "**Committing** and **pushing** are how you can add the changes you make to a repository to GitHub. That way your instructor (or if working in a team, your teammates) can see your latest work when you’re ready to share it. You can make a commit when you have made changes to your project that you want to “checkpoint.” You can also add a helpful **commit message** to remind yourself (or if working in a team, your teammates) what work you did (e.g. “Added a README with information about our project”).\n",
    "\n",
    "Once you have a commit or multiple commits that you’re ready to add to your repository, you can use the push command to add those changes to your remote repository. Committing and pushing may feel new at first, but we promise you’ll get used to it 🙂.\n",
    "\n",
    "*Make a commit of this project repository. Use the comment 'I am committing'.*"
   ]
  },
  {
   "cell_type": "markdown",
   "metadata": {
    "editable": true,
    "slideshow": {
     "slide_type": ""
    },
    "tags": []
   },
   "source": [
    "## GitHub terms to know \n",
    "\n",
    "### Repositories \n",
    "We mentioned repositories already. Your [\"GitHub dashboard\"](https://docs.github.com/en/github/setting-up-and-managing-your-github-user-account/about-your-personal-dashboard) helps to easily navigate to your repositories and see useful information about them. Make sure you’re logged in to see it!\n",
    "\n",
    "Repositories also contain **README**s. You should add a README file to your repository to tell other people why your project is useful, what they can do with your project, and how they can use it. \n",
    "\n",
    "To learn more about repositories read [\"Creating, Cloning, and Archiving Repositories](https://docs.github.com/en/github/creating-cloning-and-archiving-repositories/about-repositories) and [\"About README's\"](https://docs.github.com/en/github/creating-cloning-and-archiving-repositories/about-readmes). \n",
    "\n",
    "### Issues\n",
    "Issues are a way to track enhancements, tasks, or bugs for your work on GitHub. Issues are a great way to keep track of all the tasks you want to work on for your project and let others know what you plan to work on. You can also use issues to tell a favorite open source project about a bug you found or a feature you think would be great to add!\n",
    "\n",
    "To learn more about issues and linking them to your pull requests, read [\"About Issues\"](https://docs.github.com/en/github/managing-your-work-on-github/about-issues). \n",
    "\n",
    "### Your user profile\n",
    "Your profile page tells people the story of your work through the repositories you're interested in, the contributions you've made, and the conversations you've had. You can also give the world a unique view into who you are with your profile README. You can use your profile to let future employers know all about you! \n",
    "\n",
    "To learn more about your user profile and adding and updating your profile README, read [\"Managing Your Profile README\"](https://docs.github.com/en/github/setting-up-and-managing-your-github-profile/managing-your-profile-readme). "
   ]
  },
  {
   "cell_type": "markdown",
   "metadata": {
    "editable": true,
    "slideshow": {
     "slide_type": ""
    },
    "tags": []
   },
   "source": [
    "## Using markdown on GitHub \n",
    "\n",
    " [\"Markdown\"](https://guides.github.com/features/mastering-markdown/) is an easy way to style your README and issues with some simple syntax. This can be helpful to organize your information and make it easier for others to read. You can also drop in gifs and images to help convey your point!\n",
    "\n",
    "To learn more about using GitHub’s flavor of markdown, read [\"Basic Writing and Formatting Syntax\"](https://docs.github.com/en/github/writing-on-github/basic-writing-and-formatting-syntax). "
   ]
  },
  {
   "cell_type": "markdown",
   "metadata": {
    "editable": true,
    "slideshow": {
     "slide_type": ""
    },
    "tags": []
   },
   "source": [
    "## More about Git and Github \n",
    "* [A short video explaining what GitHub is](https://www.youtube.com/watch?v=w3jLJU7DT5E&feature=youtu.be) \n",
    "* [Software Carpentries Git Novice course](https://swcarpentry.github.io/git-novice/)\n",
    "* [Git cheat sheet](https://education.github.com/git-cheat-sheet-education.pdf)\n",
    "* [Understanding the GitHub flow](https://guides.github.com/introduction/flow/)\n",
    "* [Interactive Git training materials](https://githubtraining.github.io/training-manual/#/01_getting_ready_for_class)\n",
    "* [GitHub's Learning Lab](https://lab.github.com/)"
   ]
  },
  {
   "cell_type": "markdown",
   "metadata": {},
   "source": [
    "## Questions\n",
    "\n",
    "6. *Place these terms in order: work, clone, push, commit:*\n",
    "7. *Name one reason Github is useful:*"
   ]
  },
  {
   "cell_type": "markdown",
   "metadata": {},
   "source": [
    "# Getting Started with NLP in Python"
   ]
  },
  {
   "cell_type": "markdown",
   "metadata": {},
   "source": [
    "Remember that NLP stands for \"Natural Language Processing\". There are many Python **packages** for doing NLP. In this course, we will primarily use two: *spacy* and (later on!) *huggingface*. Today we will do our first NLP using spacy. You don't have to understand all this code on Thursday, but it should be a lot clearer by the time you submit Project 1!"
   ]
  },
  {
   "cell_type": "markdown",
   "metadata": {},
   "source": [
    "## Step 0: Install spacy\n",
    "\n",
    "First we have to **install** the spacy python package.\n",
    "\n",
    "(The % tells Jupyter to execute this code as a regular Unix command, not python code. You will learn how to use Unix commands soon!)"
   ]
  },
  {
   "cell_type": "code",
   "execution_count": null,
   "metadata": {},
   "outputs": [],
   "source": [
    "!pip install spacy"
   ]
  },
  {
   "cell_type": "markdown",
   "metadata": {},
   "source": [
    "Spacy is a ML-driven NLP library so we also have to install a spacy **model**."
   ]
  },
  {
   "cell_type": "code",
   "execution_count": null,
   "metadata": {},
   "outputs": [],
   "source": [
    "!python -m spacy download en_core_web_sm"
   ]
  },
  {
   "cell_type": "markdown",
   "metadata": {},
   "source": [
    "## Step 1: Import spacy\n",
    "\n",
    "Now we must **import** (add) the [spacy NLP](https://spacy.io/) library.\n",
    "\n",
    "In the cell below, type:\n",
    "\n",
    "```import spacy```"
   ]
  },
  {
   "cell_type": "code",
   "execution_count": null,
   "metadata": {},
   "outputs": [],
   "source": []
  },
  {
   "cell_type": "markdown",
   "metadata": {},
   "source": [
    "## Step 2: Set up spacy\n",
    "\n",
    "Now we must set up spacy in python. We make a spacy NLP **engine** and give it the **model**.\n",
    "\n",
    "In the cell below, type:\n",
    "\n",
    "```nlp = spacy.load(\"en_core_web_sm\")```"
   ]
  },
  {
   "cell_type": "code",
   "execution_count": null,
   "metadata": {},
   "outputs": [],
   "source": []
  },
  {
   "cell_type": "markdown",
   "metadata": {},
   "source": [
    "## Step 3: Create a document and run the NLP on it\n",
    "\n",
    "Now we will create a document and run the NLP on it.\n",
    "\n",
    "In the cell below, type:\n",
    "\n",
    "```doc = nlp(\"Colby College is a private liberal arts college in Waterville, Maine. Founded in 1813 as the Maine Literary and Theological Institution, it was renamed Waterville College in 1821. The donations of Christian philanthropist Gardner Colby saw the institution renamed again to Colby University before settling on its current title, reflecting its liberal arts college curriculum, in 1899. Approximately 2,000 students from more than 60 countries are enrolled annually. The college offers 54 major fields of study and 30 minors.\")```"
   ]
  },
  {
   "cell_type": "code",
   "execution_count": null,
   "metadata": {},
   "outputs": [],
   "source": []
  },
  {
   "cell_type": "markdown",
   "metadata": {},
   "source": [
    "## Step 4: What did the NLP find?\n",
    "\n",
    "As a first example, we show how spacy finds **tokens** (which are like words). We print out all the tokens spacy found, separated by '#'."
   ]
  },
  {
   "cell_type": "code",
   "execution_count": null,
   "metadata": {},
   "outputs": [],
   "source": [
    "tokens = [token.text for token in doc]\n",
    "print(' # '.join(tokens))"
   ]
  },
  {
   "cell_type": "markdown",
   "metadata": {},
   "source": [
    "## Step 5: Finish the project\n",
    "\n",
    "* Make a file called 'first_nlp.py'. (To do this, click on the top left icon in Visual Studio, then on the Document+ icon.) Copy all the code from this section (Getting Started with NLP in Python) into that file.\n",
    "* Change the text in the line that starts with 'doc = ' to be ```doc = nlp(\"Natural language processing is a subfield of Artificial Intelligence!\")```.\n",
    "* Make sure to comment your code. (For now, aim for one comment per line of code.)\n",
    "* Save the file.\n",
    "* In the cell below, type: ```!python first_nlp.py```."
   ]
  },
  {
   "cell_type": "code",
   "execution_count": null,
   "metadata": {},
   "outputs": [],
   "source": []
  },
  {
   "cell_type": "markdown",
   "metadata": {},
   "source": [
    "## Questions\n",
    "\n",
    "8. *How many tokens are in the sentence \"Natural language processing is a subfield of Artificial Intelligence!\"?*\n",
    "9. *Look at the [spacy quickstart](https://spacy.io/usage/spacy-101). What is one type of NLP other than tokenization that you would find useful?*\n",
    "10. *Write down one question you have after learning the basics of Jupyter notebooks, Github and spacy.*"
   ]
  }
 ],
 "metadata": {
  "kernelspec": {
   "display_name": "Python 3 (ipykernel)",
   "language": "python",
   "name": "python3"
  },
  "language_info": {
   "codemirror_mode": {
    "name": "ipython",
    "version": 3
   },
   "file_extension": ".py",
   "mimetype": "text/x-python",
   "name": "python",
   "nbconvert_exporter": "python",
   "pygments_lexer": "ipython3",
   "version": "3.10.8"
  },
  "toc": {
   "base_numbering": 1,
   "nav_menu": {},
   "number_sections": true,
   "sideBar": true,
   "skip_h1_title": true,
   "title_cell": "Table of Contents",
   "title_sidebar": "Contents",
   "toc_cell": false,
   "toc_position": {},
   "toc_section_display": true,
   "toc_window_display": false
  }
 },
 "nbformat": 4,
 "nbformat_minor": 4
}

{
 "cells": [
  {
   "cell_type": "code",
   "execution_count": null,
   "metadata": {
    "slideshow": {
     "slide_type": "skip"
    }
   },
   "outputs": [],
   "source": [
    "# add mercury\n",
    "import mercury as mr\n",
    "# add spacy\n",
    "import spacy\n",
    "# add re\n",
    "import re"
   ]
  },
  {
   "cell_type": "code",
   "execution_count": null,
   "metadata": {},
   "outputs": [],
   "source": [
    "# Make our web app\n",
    "app = mr.App(title=\"Let's do some NLP!\", description=\"Let's do some NLP!\")"
   ]
  },
  {
   "cell_type": "code",
   "execution_count": null,
   "metadata": {},
   "outputs": [],
   "source": [
    "# Input text\n",
    "text = mr.Text(label=\"Your text?\", rows=10, value=\"\")\n",
    "# Do we want lemmas?\n",
    "lemmas = mr.Checkbox(value=True, label=\"Lemmas?\")\n",
    "# Do we want morphology?\n",
    "morphology = mr.Checkbox(value=True, label=\"Morphology?\")\n",
    "# Do we want parts of speech?\n",
    "word_classes = mr.Checkbox(value=True, label=\"Parts of speech?\")\n",
    "# Do we want word shapes?\n",
    "shapes = mr.Checkbox(value=True, label=\"Word shapes?\")"
   ]
  },
  {
   "cell_type": "code",
   "execution_count": null,
   "metadata": {},
   "outputs": [],
   "source": [
    "# Make a spaCy engine\n",
    "nlp = spacy.load(\"en_core_web_sm\")\n",
    "# Run spaCy on text\n",
    "doc = nlp(text.value)\n",
    "\n",
    "# Make tokens table\n",
    "header = \"| Tokens |\"\n",
    "line = \"| ------ |\"\n",
    "if lemmas.value == True:\n",
    "    header = header + \" Lemmas |\"\n",
    "    line = line + \" ------ |\"\n",
    "if word_classes.value == True:\n",
    "    header = header + \" Coarse | Fine |\"\n",
    "    line = line + \" ------ | ---- |\"\n",
    "if shapes.value == True:\n",
    "    header = header + \" Shapes |\"\n",
    "    line = line + \" ------ |\"\n",
    "if morphology.value == True:\n",
    "    header = header + \" Morphology |\"\n",
    "    line = line + \" ---------- |\"\n",
    "tokens_table = header + \"\\n\" + line + \"\\n\"\n",
    "\n",
    "for token in doc:\n",
    "    line = \"| \" + token.text + \" |\"\n",
    "    if lemmas.value == True:\n",
    "        line = line + \" \" + token.lemma_ + \" |\"\n",
    "    if word_classes.value == True:\n",
    "        line = line + \" \" + token.pos_ + \" | \" + token.tag_ + \" |\"\n",
    "    if shapes.value == True:\n",
    "        line = line + \" \" + token.shape_ + \" |\"\n",
    "    if morphology.value == True:\n",
    "        line = line + \" \" + re.sub('\\|', '#', str(token.morph)) + \" |\"\n",
    "    tokens_table = tokens_table + line + \"\\n\"\n",
    "\n",
    "entities_table = \"| Text | Type |\\n| ---- | ---- |\\n\"\n",
    "for entity in doc.ents:\n",
    "    entities_table = entities_table + \"| \" + entity.text + \" | \" + entity.label_ + \" |\\n\"\n",
    "\n",
    "# Display output table\n",
    "mr.Markdown(f\"# spaCy NLP Output\\n\\n## Tokens\\n\\n{tokens_table}\\n\\n## Entities\\n\\n{entities_table}\")"
   ]
  },
  {
   "cell_type": "markdown",
   "metadata": {},
   "source": []
  }
 ],
 "metadata": {
  "kernelspec": {
   "display_name": "Python 3",
   "language": "python",
   "name": "python3"
  },
  "language_info": {
   "codemirror_mode": {
    "name": "ipython",
    "version": 3
   },
   "file_extension": ".py",
   "mimetype": "text/x-python",
   "name": "python",
   "nbconvert_exporter": "python",
   "pygments_lexer": "ipython3",
   "version": "3.10.8"
  },
  "orig_nbformat": 4
 },
 "nbformat": 4,
 "nbformat_minor": 2
}
